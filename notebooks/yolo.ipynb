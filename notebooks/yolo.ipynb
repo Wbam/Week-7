{
 "cells": [
  {
   "cell_type": "code",
   "execution_count": 1,
   "metadata": {},
   "outputs": [
    {
     "name": "stderr",
     "output_type": "stream",
     "text": [
      "Using cache found in C:\\Users\\bam/.cache\\torch\\hub\\ultralytics_yolov5_master\n",
      "YOLOv5  2024-10-21 Python-3.10.11 torch-2.5.0+cpu CPU\n",
      "\n",
      "Fusing layers... \n",
      "YOLOv5s summary: 213 layers, 7225885 parameters, 0 gradients, 16.4 GFLOPs\n",
      "Adding AutoShape... \n"
     ]
    }
   ],
   "source": [
    "import torch\n",
    "\n",
    "# Load the YOLOv5 model \n",
    "model = torch.hub.load('ultralytics/yolov5', 'yolov5s')  \n"
   ]
  },
  {
   "cell_type": "code",
   "execution_count": null,
   "metadata": {},
   "outputs": [],
   "source": [
    "import cv2\n",
    "import os\n",
    "\n",
    "# Path to your images\n",
    "image_folder = 'C:/Users/bam/Desktop/Week-7/notebooks/scraped_images/'\n",
    "image_files = [os.path.join(image_folder, f) for f in os.listdir(image_folder) if f.endswith('.jpg') or f.endswith('.png')]\n",
    "\n",
    "# Loop over all images for object detection\n",
    "for img_path in image_files:\n",
    "    img = cv2.imread(img_path)\n",
    "    results = model(img)  \n",
    "    results.show() \n"
   ]
  },
  {
   "cell_type": "code",
   "execution_count": null,
   "metadata": {},
   "outputs": [],
   "source": [
    "# Extract detection results\n",
    "for result in results.xyxy[0]:  \n",
    "    x1, y1, x2, y2, confidence, cls = result\n",
    "    print(f\"Class: {int(cls)}, Confidence: {confidence}, BBox: ({x1}, {y1}, {x2}, {y2})\")\n"
   ]
  },
  {
   "cell_type": "code",
   "execution_count": null,
   "metadata": {},
   "outputs": [],
   "source": [
    "import psycopg2\n",
    "\n",
    "# Connect to your PostgreSQL database\n",
    "conn = psycopg2.connect(\"dbname=dbt_project.yml user=postgres password=time\")\n",
    "cur = conn.cursor()\n",
    "\n",
    "# Insert detection data into the database\n",
    "insert_query = \"\"\"\n",
    "INSERT INTO object_detection (image_path, class_label, confidence, bbox_x1, bbox_y1, bbox_x2, bbox_y2)\n",
    "VALUES (%s, %s, %s, %s, %s, %s, %s);\n",
    "\"\"\"\n",
    "\n",
    "for result in results.xyxy[0]:\n",
    "    x1, y1, x2, y2, confidence, cls = result\n",
    "    cur.execute(insert_query, (img_path, int(cls), confidence, x1, y1, x2, y2))\n",
    "\n",
    "conn.commit()\n",
    "cur.close()\n",
    "conn.close()\n"
   ]
  },
  {
   "cell_type": "code",
   "execution_count": null,
   "metadata": {},
   "outputs": [],
   "source": [
    "import logging\n",
    "\n",
    "# Set up logging\n",
    "logging.basicConfig(filename='object_detection.log', level=logging.INFO, \n",
    "                    format='%(asctime)s:%(levelname)s:%(message)s')\n",
    "\n",
    "try:\n",
    "    # Perform your detection\n",
    "    results = model(img)\n",
    "    logging.info(f\"Successfully processed {img_path}\")\n",
    "except Exception as e:\n",
    "    logging.error(f\"Error processing {img_path}: {e}\")\n"
   ]
  }
 ],
 "metadata": {
  "kernelspec": {
   "display_name": "Python 3",
   "language": "python",
   "name": "python3"
  },
  "language_info": {
   "codemirror_mode": {
    "name": "ipython",
    "version": 3
   },
   "file_extension": ".py",
   "mimetype": "text/x-python",
   "name": "python",
   "nbconvert_exporter": "python",
   "pygments_lexer": "ipython3",
   "version": "3.10.11"
  }
 },
 "nbformat": 4,
 "nbformat_minor": 2
}
