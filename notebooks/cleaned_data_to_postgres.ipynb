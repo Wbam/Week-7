{
 "cells": [
  {
   "cell_type": "code",
   "execution_count": 3,
   "metadata": {},
   "outputs": [],
   "source": [
    "import pandas as pd\n",
    "from sqlalchemy import create_engine\n"
   ]
  },
  {
   "cell_type": "code",
   "execution_count": 4,
   "metadata": {},
   "outputs": [],
   "source": [
    "# Database connection parameters\n",
    "db_username = 'postgres'   \n",
    "db_password = 'time'   \n",
    "db_host = 'localhost'           \n",
    "db_port = '5432'                \n",
    "db_name = 'postgres'        \n"
   ]
  },
  {
   "cell_type": "code",
   "execution_count": 10,
   "metadata": {},
   "outputs": [],
   "source": [
    "# Create a database connection string\n",
    "connection_string = f'postgresql://{db_username}:{db_password}@{db_host}:{db_port}/{db_name}'\n",
    "\n",
    "engine = create_engine(connection_string)\n"
   ]
  },
  {
   "cell_type": "code",
   "execution_count": 11,
   "metadata": {},
   "outputs": [
    {
     "data": {
      "text/html": [
       "<div>\n",
       "<style scoped>\n",
       "    .dataframe tbody tr th:only-of-type {\n",
       "        vertical-align: middle;\n",
       "    }\n",
       "\n",
       "    .dataframe tbody tr th {\n",
       "        vertical-align: top;\n",
       "    }\n",
       "\n",
       "    .dataframe thead th {\n",
       "        text-align: right;\n",
       "    }\n",
       "</style>\n",
       "<table border=\"1\" class=\"dataframe\">\n",
       "  <thead>\n",
       "    <tr style=\"text-align: right;\">\n",
       "      <th></th>\n",
       "      <th>date</th>\n",
       "      <th>sender</th>\n",
       "      <th>content</th>\n",
       "      <th>image</th>\n",
       "    </tr>\n",
       "  </thead>\n",
       "  <tbody>\n",
       "    <tr>\n",
       "      <th>0</th>\n",
       "      <td>2023-12-18 17:04:02+00:00</td>\n",
       "      <td>-1001102021238</td>\n",
       "      <td>https://youtu.be/5DBoEm-8kmA?si=LDLuEecNfULJVD...</td>\n",
       "      <td>NaN</td>\n",
       "    </tr>\n",
       "    <tr>\n",
       "      <th>1</th>\n",
       "      <td>2023-11-03 16:14:39+00:00</td>\n",
       "      <td>-1001102021238</td>\n",
       "      <td>ዶክተርስ ኢትዮጵያ በ አዲስ አቀራረብ በ ቴሌቪዥን ፕሮግራሙን ለመጀመር ከ...</td>\n",
       "      <td>NaN</td>\n",
       "    </tr>\n",
       "    <tr>\n",
       "      <th>2</th>\n",
       "      <td>2023-10-02 16:37:39+00:00</td>\n",
       "      <td>-1001102021238</td>\n",
       "      <td>ሞት በስኳር \\n\\nለልጆቻችን የምናሲዘው ምሳቃ ሳናቀው እድሚያቸውን ይቀን...</td>\n",
       "      <td>NaN</td>\n",
       "    </tr>\n",
       "    <tr>\n",
       "      <th>3</th>\n",
       "      <td>2023-09-16 07:54:32+00:00</td>\n",
       "      <td>-1001102021238</td>\n",
       "      <td>ከ HIV የተፈወሰ ሰው አጋጥሟችሁ ያቃል ? ፈውስ እና ህክምና ?\\n\\nሙ...</td>\n",
       "      <td>NaN</td>\n",
       "    </tr>\n",
       "    <tr>\n",
       "      <th>4</th>\n",
       "      <td>2023-09-01 16:16:15+00:00</td>\n",
       "      <td>-1001102021238</td>\n",
       "      <td>በቅርብ ጊዜ በሃገራችን ላይ እየተስተዋለ ያለ የተመሳሳይ ፆታ ( Homos...</td>\n",
       "      <td>NaN</td>\n",
       "    </tr>\n",
       "  </tbody>\n",
       "</table>\n",
       "</div>"
      ],
      "text/plain": [
       "                        date         sender  \\\n",
       "0  2023-12-18 17:04:02+00:00 -1001102021238   \n",
       "1  2023-11-03 16:14:39+00:00 -1001102021238   \n",
       "2  2023-10-02 16:37:39+00:00 -1001102021238   \n",
       "3  2023-09-16 07:54:32+00:00 -1001102021238   \n",
       "4  2023-09-01 16:16:15+00:00 -1001102021238   \n",
       "\n",
       "                                             content image  \n",
       "0  https://youtu.be/5DBoEm-8kmA?si=LDLuEecNfULJVD...   NaN  \n",
       "1  ዶክተርስ ኢትዮጵያ በ አዲስ አቀራረብ በ ቴሌቪዥን ፕሮግራሙን ለመጀመር ከ...   NaN  \n",
       "2  ሞት በስኳር \\n\\nለልጆቻችን የምናሲዘው ምሳቃ ሳናቀው እድሚያቸውን ይቀን...   NaN  \n",
       "3  ከ HIV የተፈወሰ ሰው አጋጥሟችሁ ያቃል ? ፈውስ እና ህክምና ?\\n\\nሙ...   NaN  \n",
       "4  በቅርብ ጊዜ በሃገራችን ላይ እየተስተዋለ ያለ የተመሳሳይ ፆታ ( Homos...   NaN  "
      ]
     },
     "execution_count": 11,
     "metadata": {},
     "output_type": "execute_result"
    }
   ],
   "source": [
    "csv_file_path = 'C:/Users/bam/Desktop/Week-7/notebooks/cleaned_data.csv'  # Update the path as needed\n",
    "df = pd.read_csv(csv_file_path)\n",
    "\n",
    "df.head()  \n"
   ]
  },
  {
   "cell_type": "code",
   "execution_count": 15,
   "metadata": {},
   "outputs": [
    {
     "data": {
      "text/plain": [
       "879"
      ]
     },
     "execution_count": 15,
     "metadata": {},
     "output_type": "execute_result"
    }
   ],
   "source": [
    "df_filtered = df[['date', 'sender', 'content']]  # Adjust the column names as needed\n",
    "\n",
    "df_filtered.to_sql('medic_info_raw', con=engine, if_exists='append', index=False)\n"
   ]
  }
 ],
 "metadata": {
  "kernelspec": {
   "display_name": "Python 3",
   "language": "python",
   "name": "python3"
  },
  "language_info": {
   "codemirror_mode": {
    "name": "ipython",
    "version": 3
   },
   "file_extension": ".py",
   "mimetype": "text/x-python",
   "name": "python",
   "nbconvert_exporter": "python",
   "pygments_lexer": "ipython3",
   "version": "3.10.11"
  }
 },
 "nbformat": 4,
 "nbformat_minor": 2
}
